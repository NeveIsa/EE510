{
  "nbformat": 4,
  "nbformat_minor": 0,
  "metadata": {
    "colab": {
      "name": "2020-08-20 US GDP data.ipynb",
      "provenance": [],
      "collapsed_sections": []
    },
    "kernelspec": {
      "name": "python3",
      "display_name": "Python 3"
    }
  },
  "cells": [
    {
      "cell_type": "markdown",
      "metadata": {
        "id": "QEhpndkjJd2G",
        "colab_type": "text"
      },
      "source": [
        "# Least-squares fitting"
      ]
    },
    {
      "cell_type": "code",
      "metadata": {
        "id": "MOMYst49JiK8",
        "colab_type": "code",
        "colab": {
          "base_uri": "https://localhost:8080/",
          "height": 85
        },
        "outputId": "b9f06bbb-e5d2-439a-bfc5-dd02a73cf733"
      },
      "source": [
        "import numpy as np\n",
        "\n",
        "n = 3\n",
        "x = np.random.rand(n)\n",
        "A = np.random.rand(n, n)\n",
        "b = A.dot(x)\n",
        "print(A, x, \" = \", b)\n",
        "A.shape\n",
        "\n",
        "y = np.linalg.solve(A, b)\n",
        "\n",
        "y - x"
      ],
      "execution_count": 21,
      "outputs": [
        {
          "output_type": "stream",
          "text": [
            "[[0.71198182 0.31235366 0.47369703]\n",
            " [0.98477954 0.70943528 0.62777568]\n",
            " [0.9931496  0.94021927 0.58690008]] [0.94740084 0.18626032 0.17758458]  =  [0.81683255 1.17660389 1.22026072]\n"
          ],
          "name": "stdout"
        },
        {
          "output_type": "execute_result",
          "data": {
            "text/plain": [
              "array([-4.77395901e-15,  9.15933995e-16,  6.74460487e-15])"
            ]
          },
          "metadata": {
            "tags": []
          },
          "execution_count": 21
        }
      ]
    },
    {
      "cell_type": "code",
      "metadata": {
        "id": "lAM2Dzu8KJzL",
        "colab_type": "code",
        "colab": {
          "base_uri": "https://localhost:8080/",
          "height": 68
        },
        "outputId": "d061b12e-7174-4c02-92fc-eb550cc6b0f0"
      },
      "source": [
        "# What about an underdetermined system of equations?\n",
        "m, n = 2, 10\n",
        "A = np.random.rand(m, n)\n",
        "x = np.random.rand(n)\n",
        "b = A.dot(x)\n",
        "\n",
        "# np.linalg.solve(A, b)  # this won't work!\n",
        "y = np.linalg.lstsq(A, b, rcond=None)[0]\n",
        "\n",
        "print(A.dot(y) - b)\n",
        "\n",
        "print(y - x)"
      ],
      "execution_count": 28,
      "outputs": [
        {
          "output_type": "stream",
          "text": [
            "[ 8.88178420e-16 -1.77635684e-15]\n",
            "[ 0.18740591  0.33765804 -0.01038698  0.24821234 -0.31770421  0.05479643\n",
            " -0.20623121 -0.28142313 -0.05688496 -0.02630493]\n"
          ],
          "name": "stdout"
        }
      ]
    },
    {
      "cell_type": "code",
      "metadata": {
        "id": "EpTS_1RAK6iZ",
        "colab_type": "code",
        "colab": {
          "base_uri": "https://localhost:8080/",
          "height": 68
        },
        "outputId": "fc640266-ab13-4c42-bdae-cd383ef18750"
      },
      "source": [
        "# What about an overdetermined system of equations?  \n",
        "m, n = 10, 1\n",
        "A = np.random.rand(m, n)\n",
        "b = np.random.rand(m)\n",
        "\n",
        "y = np.linalg.lstsq(A, b, rcond=None)[0]\n",
        "print(y)\n",
        "A.dot(y) - b"
      ],
      "execution_count": 36,
      "outputs": [
        {
          "output_type": "stream",
          "text": [
            "[0.6795066]\n"
          ],
          "name": "stdout"
        },
        {
          "output_type": "execute_result",
          "data": {
            "text/plain": [
              "array([-0.35796731, -0.21125954, -0.27949132,  0.36990432, -0.69213722,\n",
              "        0.4377687 ,  0.24631721,  0.11835182, -0.22805209,  0.16391837])"
            ]
          },
          "metadata": {
            "tags": []
          },
          "execution_count": 36
        }
      ]
    },
    {
      "cell_type": "code",
      "metadata": {
        "id": "Pl83WB2vMRvl",
        "colab_type": "code",
        "colab": {
          "base_uri": "https://localhost:8080/",
          "height": 263
        },
        "outputId": "398bc233-c88f-4267-c555-a03eb8910da7"
      },
      "source": [
        "A\n",
        "m = np.linalg.lstsq(A, b, rcond=None)[0]\n",
        "m\n",
        "\n",
        "plt.plot(A, b, 'o', label='Original data', markersize=10)\n",
        "plt.plot(A, m*A, 'r', label='Fitted line')\n",
        "plt.legend()\n",
        "plt.show()"
      ],
      "execution_count": 38,
      "outputs": [
        {
          "output_type": "display_data",
          "data": {
            "image/png": "[encoded data removed]",
            "text/plain": [
              "<Figure size 432x288 with 1 Axes>"
            ]
          },
          "metadata": {
            "tags": []
          }
        }
      ]
    },
    {
      "cell_type": "code",
      "metadata": {
        "id": "0hwF8DHwLR-u",
        "colab_type": "code",
        "colab": {
          "base_uri": "https://localhost:8080/",
          "height": 262
        },
        "outputId": "338374f1-911a-451f-833f-471e6d586de4"
      },
      "source": [
        "import matplotlib.pyplot as plt\n",
        "\n",
        "x = np.array([0, 1, 2, 3])\n",
        "y = np.array([-1, 0.2, 0.9, 2.1])\n",
        "\n",
        "A = np.vstack([x, np.ones(len(x))]).T\n",
        "m, c = np.linalg.lstsq(A, y, rcond=None)[0]\n",
        "\n",
        "plt.plot(x, y, 'o', label='Original data', markersize=10)\n",
        "plt.plot(x, m*x + c, 'r', label='Fitted line')\n",
        "plt.legend()\n",
        "plt.show()"
      ],
      "execution_count": 30,
      "outputs": [
        {
          "output_type": "display_data",
          "data": {
            "image/png": "[encoded data removed]",
            "text/plain": [
              "<Figure size 432x288 with 1 Axes>"
            ]
          },
          "metadata": {
            "tags": []
          }
        }
      ]
    },
    {
      "cell_type": "markdown",
      "metadata": {
        "id": "Cf6-TJL_ivhU",
        "colab_type": "text"
      },
      "source": [
        "# Least-squares GDP analysis\n",
        "\n",
        "Downloading GDP data from the World Bank with pandas.  \n",
        "\n",
        "World bank API documentation: https://datahelpdesk.worldbank.org/knowledgebase/articles/1886695-metadata-api-queries\n",
        "\n",
        "Example URL: http://api.worldbank.org/v2/sources/2/country/usa;jpn/series/NY.GDP.MKTP.CD?format=json\n"
      ]
    },
    {
      "cell_type": "markdown",
      "metadata": {
        "id": "NC_yrtz4BbA2",
        "colab_type": "text"
      },
      "source": [
        "Country codes: https://en.wikipedia.org/wiki/List_of_ISO_3166_country_codes  \n",
        "USA, JPN, CHN, …"
      ]
    },
    {
      "cell_type": "code",
      "metadata": {
        "id": "rO74iESu76aK",
        "colab_type": "code",
        "colab": {
          "base_uri": "https://localhost:8080/",
          "height": 287
        },
        "outputId": "36ef9450-4547-4bee-8472-c20dda937419"
      },
      "source": [
        "# Download the GDP data from the World Bank using pandas\n",
        "\n",
        "import numpy as np\n",
        "import pandas as pd\n",
        "\n",
        "country = 'chn'\n",
        "download_url = 'http://api.worldbank.org/v2/sources/2/country/' \\\n",
        "                 + country + '/series/NY.GDP.MKTP.CD?format=json'\n",
        "data = pd.read_json(download_url)\n",
        "data = data['source']['data']\n",
        "\n",
        "years = np.array([int(term['variable'][2]['value']) for term in data])\n",
        "values = np.array([float(term['value']) for term in data])\n",
        "\n",
        "\n",
        "# Plot the data using matplotlib\n",
        "\n",
        "import matplotlib.pyplot as plt\n",
        "plt.style.use('seaborn-whitegrid')\n",
        "\n",
        "plt.scatter(years, values, color='red')\n",
        "plt.xlabel('Year')\n",
        "plt.ylabel('GDP')\n",
        "plt.show()"
      ],
      "execution_count": 3,
      "outputs": [
        {
          "output_type": "display_data",
          "data": {
            "image/png": "[encoded data removed]",
            "text/plain": [
              "<Figure size 432x288 with 1 Axes>"
            ]
          },
          "metadata": {
            "tags": []
          }
        }
      ]
    },
    {
      "cell_type": "code",
      "metadata": {
        "id": "Cpqars6poR2k",
        "colab_type": "code",
        "colab": {
          "base_uri": "https://localhost:8080/",
          "height": 68
        },
        "outputId": "e01bbfab-5627-4c2a-d642-540f1b05dd61"
      },
      "source": [
        "import numpy as np\n",
        "\n",
        "A = np.vstack(( np.ones(len(years)), years )).transpose()\n",
        "print(A.shape)\n",
        "\n",
        "fit = np.linalg.pinv(A).dot( np.log(values) )\n",
        "print(fit)\n",
        "\n",
        "prediction = np.exp( fit.dot([1, 2030]) )\n",
        "print(\"Prediction for 2030:\", prediction)"
      ],
      "execution_count": 4,
      "outputs": [
        {
          "output_type": "stream",
          "text": [
            "(50, 2)\n",
            "[-1.87647466e+02  1.07871187e-01]\n",
            "Prediction for 2030: 40448200246701.36\n"
          ],
          "name": "stdout"
        }
      ]
    },
    {
      "cell_type": "code",
      "metadata": {
        "id": "-uStAdVKIixs",
        "colab_type": "code",
        "colab": {
          "base_uri": "https://localhost:8080/",
          "height": 34
        },
        "outputId": "17e66fce-cec0-4d6c-cc39-253ef219eb0f"
      },
      "source": [
        "# Can also use the \"built-in\" least-squares function\n",
        "\n",
        "np.linalg.lstsq(A, np.log(values), rcond=None)[0]"
      ],
      "execution_count": 8,
      "outputs": [
        {
          "output_type": "execute_result",
          "data": {
            "text/plain": [
              "array([-1.87647466e+02,  1.07871187e-01])"
            ]
          },
          "metadata": {
            "tags": []
          },
          "execution_count": 8
        }
      ]
    },
    {
      "cell_type": "code",
      "metadata": {
        "id": "iUFcK5yS_T3s",
        "colab_type": "code",
        "colab": {
          "base_uri": "https://localhost:8080/",
          "height": 546
        },
        "outputId": "5237b348-33f8-46cf-ee68-0d86f2a52b45"
      },
      "source": [
        "pred_years = np.arange(1970, 2031)\n",
        "y = np.exp( [fit.dot([1, year]) for year in pred_years] )\n",
        "\n",
        "plt.scatter(years, np.log(values), color='red')\n",
        "plt.plot(pred_years, np.log(y), color='blue')\n",
        "plt.xlabel('Year')\n",
        "plt.ylabel('log(GDP)')\n",
        "plt.show()\n",
        "\n",
        "plt.scatter(years, values, color='red')\n",
        "plt.plot(pred_years, y, color='blue')\n",
        "plt.xlabel('Year')\n",
        "plt.ylabel('GDP')\n",
        "plt.show()"
      ],
      "execution_count": null,
      "outputs": [
        {
          "output_type": "display_data",
          "data": {
            "image/png": "[encoded data removed]",
            "text/plain": [
              "<Figure size 432x288 with 1 Axes>"
            ]
          },
          "metadata": {
            "tags": []
          }
        },
        {
          "output_type": "display_data",
          "data": {
            "image/png": "[encoded data removed]",
            "text/plain": [
              "<Figure size 432x288 with 1 Axes>"
            ]
          },
          "metadata": {
            "tags": []
          }
        }
      ]
    }
  ]
}