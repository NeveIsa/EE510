{
  "nbformat": 4,
  "nbformat_minor": 0,
  "metadata": {
    "colab": {
      "name": "cvxpy.ipynb",
      "provenance": [],
      "collapsed_sections": [
        "WTuSgJp4yNAh",
        "A7_eys3g9ud-"
      ]
    },
    "kernelspec": {
      "name": "python3",
      "display_name": "Python 3"
    }
  },
  "cells": [
    {
      "cell_type": "markdown",
      "metadata": {
        "id": "FG928akYwKCL",
        "colab_type": "text"
      },
      "source": [
        "# CVX\n",
        "\n",
        "This example is from https://www.cvxpy.org/"
      ]
    },
    {
      "cell_type": "code",
      "metadata": {
        "id": "u7wXGyuMwCbi",
        "colab_type": "code",
        "colab": {
          "base_uri": "https://localhost:8080/",
          "height": 170
        },
        "outputId": "7015ba42-67a4-4eda-d4b9-604335e26c9b"
      },
      "source": [
        "import cvxpy as cp\n",
        "import numpy as np\n",
        "\n",
        "# Problem data.\n",
        "m = 30\n",
        "n = 20\n",
        "np.random.seed(1)\n",
        "A = np.random.randn(m, n)\n",
        "b = np.random.randn(m)\n",
        "\n",
        "# Construct the problem.\n",
        "x = cp.Variable(n)\n",
        "objective = cp.Minimize(cp.sum_squares(A*x - b))\n",
        "constraints = [0 <= x, x <= 1]\n",
        "prob = cp.Problem(objective, constraints)\n",
        "\n",
        "# The optimal objective value is returned by `prob.solve()`.\n",
        "result = prob.solve()\n",
        "# The optimal value for x is stored in `x.value`.\n",
        "print(x.value)\n",
        "# The optimal Lagrange multiplier for a constraint is stored in\n",
        "# `constraint.dual_value`.\n",
        "print(constraints[0].dual_value)\n"
      ],
      "execution_count": 2,
      "outputs": [
        {
          "output_type": "stream",
          "text": [
            "[-1.79109253e-19  2.85112420e-02  2.79973443e-19  3.37658751e-20\n",
            " -2.72802659e-19  1.49285011e-01 -9.97212062e-20  8.35373892e-20\n",
            "  2.46718649e-01  5.78224144e-01 -4.03739462e-19  1.01242860e-03\n",
            " -9.28486200e-20  2.26767464e-01 -1.58813677e-19 -8.97232308e-20\n",
            " -1.22145726e-19 -1.51509432e-19  1.12060673e-19 -3.48318630e-19]\n",
            "[ 2.50938945  0.          2.78354615  1.79425782 13.08579183  0.\n",
            "  0.73716363  3.35344995  0.          0.          8.93825054  0.\n",
            "  7.02955161  0.          4.71068649  3.18873635  2.06090107 10.08166738\n",
            "  3.0481157   8.53268239]\n"
          ],
          "name": "stdout"
        }
      ]
    },
    {
      "cell_type": "markdown",
      "metadata": {
        "id": "BiMOMnlv8eTC",
        "colab_type": "text"
      },
      "source": [
        "# Sparse matrices"
      ]
    },
    {
      "cell_type": "markdown",
      "metadata": {
        "id": "pXDi3oDAxKI0",
        "colab_type": "text"
      },
      "source": [
        "Sparse matrices https://docs.scipy.org/doc/scipy/reference/sparse.html"
      ]
    },
    {
      "cell_type": "code",
      "metadata": {
        "id": "Vc8ZB8mawDQf",
        "colab_type": "code",
        "colab": {
          "base_uri": "https://localhost:8080/",
          "height": 221
        },
        "outputId": "dab560dd-ebe5-4382-e4dd-1589b73ef3a3"
      },
      "source": [
        "# dense to sparse\n",
        "from numpy import array\n",
        "from scipy.sparse import csr_matrix\n",
        "# create dense matrix\n",
        "A = array([[1, 0, 0, 1, 0, 0], [0, 0, 2, 0, 0, 1], [0, 0, 0, 2, 0, 0]])\n",
        "print(A)\n",
        "# convert to sparse matrix (CSR method)\n",
        "S = csr_matrix(A)\n",
        "print(S)\n",
        "# reconstruct dense matrix\n",
        "B = S.todense()\n",
        "print(B)\n",
        "\n",
        "from numpy import count_nonzero\n",
        "\n",
        "sparsity = 1.0 - count_nonzero(A) / A.size\n",
        "sparsity"
      ],
      "execution_count": 5,
      "outputs": [
        {
          "output_type": "stream",
          "text": [
            "[[1 0 0 1 0 0]\n",
            " [0 0 2 0 0 1]\n",
            " [0 0 0 2 0 0]]\n",
            "  (0, 0)\t1\n",
            "  (0, 3)\t1\n",
            "  (1, 2)\t2\n",
            "  (1, 5)\t1\n",
            "  (2, 3)\t2\n",
            "[[1 0 0 1 0 0]\n",
            " [0 0 2 0 0 1]\n",
            " [0 0 0 2 0 0]]\n"
          ],
          "name": "stdout"
        },
        {
          "output_type": "execute_result",
          "data": {
            "text/plain": [
              "0.7222222222222222"
            ]
          },
          "metadata": {
            "tags": []
          },
          "execution_count": 5
        }
      ]
    },
    {
      "cell_type": "code",
      "metadata": {
        "id": "3QgpIWwVxMsh",
        "colab_type": "code",
        "colab": {
          "base_uri": "https://localhost:8080/",
          "height": 51
        },
        "outputId": "e7abe9c7-76ac-46ce-8ebf-40a8319ba3ff"
      },
      "source": [
        "docs = [[\"hello\", \"world\", \"hello\"], [\"goodbye\", \"cruel\", \"world\"]]\n",
        "indptr = [0]\n",
        "indices = []\n",
        "data = []\n",
        "vocabulary = {}\n",
        "for d in docs:\n",
        "    for term in d:\n",
        "        index = vocabulary.setdefault(term, len(vocabulary))\n",
        "        indices.append(index)\n",
        "        data.append(1)\n",
        "    indptr.append(len(indices))\n",
        "\n",
        "# csr_matrix((data, indices, indptr), dtype=int).toarray()"
      ],
      "execution_count": 6,
      "outputs": [
        {
          "output_type": "execute_result",
          "data": {
            "text/plain": [
              "array([[2, 1, 0, 0],\n",
              "       [0, 1, 1, 1]])"
            ]
          },
          "metadata": {
            "tags": []
          },
          "execution_count": 6
        }
      ]
    },
    {
      "cell_type": "markdown",
      "metadata": {
        "id": "WTuSgJp4yNAh",
        "colab_type": "text"
      },
      "source": [
        "# Clustering\n",
        "\n",
        "https://machinelearningmastery.com/clustering-algorithms-with-python/"
      ]
    },
    {
      "cell_type": "code",
      "metadata": {
        "id": "RCi8MSz_yEfr",
        "colab_type": "code",
        "colab": {
          "base_uri": "https://localhost:8080/",
          "height": 265
        },
        "outputId": "7d2666fd-f51d-40aa-8fea-1b1b6034d023"
      },
      "source": [
        "# synthetic classification dataset\n",
        "from numpy import where\n",
        "from sklearn.datasets import make_classification\n",
        "from matplotlib import pyplot\n",
        "# define dataset\n",
        "X, y = make_classification(n_samples=1000, n_features=2, n_informative=2, n_redundant=0, n_clusters_per_class=1, random_state=4)\n",
        "# create scatter plot for samples from each class\n",
        "for class_value in range(2):\n",
        "\t# get row indexes for samples with this class\n",
        "\trow_ix = where(y == class_value)\n",
        "\t# create scatter of these samples\n",
        "\tpyplot.scatter(X[row_ix, 0], X[row_ix, 1])\n",
        "# show the plot\n",
        "pyplot.show()"
      ],
      "execution_count": 8,
      "outputs": [
        {
          "output_type": "display_data",
          "data": {
            "image/png": "[encoded data removed]",
            "text/plain": [
              "<Figure size 432x288 with 1 Axes>"
            ]
          },
          "metadata": {
            "tags": [],
            "needs_background": "light"
          }
        }
      ]
    },
    {
      "cell_type": "code",
      "metadata": {
        "id": "oHzOoI9FyLeI",
        "colab_type": "code",
        "colab": {
          "base_uri": "https://localhost:8080/",
          "height": 265
        },
        "outputId": "221decd4-9dd6-4ff8-8897-d9e6f09686f0"
      },
      "source": [
        "# k-means clustering\n",
        "from numpy import unique\n",
        "from numpy import where\n",
        "from sklearn.datasets import make_classification\n",
        "from sklearn.cluster import KMeans\n",
        "from matplotlib import pyplot\n",
        "# define dataset\n",
        "X, _ = make_classification(n_samples=1000, n_features=2, n_informative=2, n_redundant=0, n_clusters_per_class=1, random_state=4)\n",
        "# define the model\n",
        "model = KMeans(n_clusters=2)\n",
        "# fit the model\n",
        "model.fit(X)\n",
        "# assign a cluster to each example\n",
        "yhat = model.predict(X)\n",
        "# retrieve unique clusters\n",
        "clusters = unique(yhat)\n",
        "# create scatter plot for samples from each cluster\n",
        "for cluster in clusters:\n",
        "\t# get row indexes for samples with this cluster\n",
        "\trow_ix = where(yhat == cluster)\n",
        "\t# create scatter of these samples\n",
        "\tpyplot.scatter(X[row_ix, 0], X[row_ix, 1])\n",
        "# show the plot\n",
        "pyplot.show()"
      ],
      "execution_count": 9,
      "outputs": [
        {
          "output_type": "display_data",
          "data": {
            "image/png": "[encoded data removed]",
            "text/plain": [
              "<Figure size 432x288 with 1 Axes>"
            ]
          },
          "metadata": {
            "tags": [],
            "needs_background": "light"
          }
        }
      ]
    },
    {
      "cell_type": "code",
      "metadata": {
        "id": "Ax0XV-Zpyes9",
        "colab_type": "code",
        "colab": {
          "base_uri": "https://localhost:8080/",
          "height": 0
        },
        "outputId": "ba7b9958-3163-45fb-b8f6-4c2329ecc7a7"
      },
      "source": [
        "# spectral clustering https://papers.nips.cc/paper/2092-on-spectral-clustering-analysis-and-an-algorithm.pdf\n",
        "from numpy import unique\n",
        "from numpy import where\n",
        "from sklearn.datasets import make_classification\n",
        "from sklearn.cluster import SpectralClustering\n",
        "from matplotlib import pyplot\n",
        "# define dataset\n",
        "X, _ = make_classification(n_samples=1000, n_features=2, n_informative=2, n_redundant=0, n_clusters_per_class=1, random_state=4)\n",
        "# define the model\n",
        "model = SpectralClustering(n_clusters=2)\n",
        "# fit model and predict clusters\n",
        "yhat = model.fit_predict(X)\n",
        "# retrieve unique clusters\n",
        "clusters = unique(yhat)\n",
        "# create scatter plot for samples from each cluster\n",
        "for cluster in clusters:\n",
        "\t# get row indexes for samples with this cluster\n",
        "\trow_ix = where(yhat == cluster)\n",
        "\t# create scatter of these samples\n",
        "\tpyplot.scatter(X[row_ix, 0], X[row_ix, 1])\n",
        "# show the plot\n",
        "pyplot.show()"
      ],
      "execution_count": 10,
      "outputs": [
        {
          "output_type": "display_data",
          "data": {
            "image/png": "[encoded data removed]",
            "text/plain": [
              "<Figure size 432x288 with 1 Axes>"
            ]
          },
          "metadata": {
            "tags": [],
            "needs_background": "light"
          }
        }
      ]
    },
    {
      "cell_type": "markdown",
      "metadata": {
        "id": "bZq7sfkx8Z4T",
        "colab_type": "text"
      },
      "source": [
        "# Least-squares fitting"
      ]
    },
    {
      "cell_type": "markdown",
      "metadata": {
        "id": "NrPut-0o8FUr",
        "colab_type": "text"
      },
      "source": [
        "Fit a line, y = mx + c, through some noisy data-points\n",
        "\n",
        "See https://numpy.org/doc/stable/reference/generated/numpy.linalg.lstsq.html"
      ]
    },
    {
      "cell_type": "code",
      "metadata": {
        "id": "mQAW_tAp7srL",
        "colab_type": "code",
        "colab": {
          "base_uri": "https://localhost:8080/",
          "height": 265
        },
        "outputId": "ee79b799-67eb-4b57-ccc7-ba001b7464dc"
      },
      "source": [
        "import numpy as np\n",
        "\n",
        "x = np.array([0, 1, 2, 3])\n",
        "y = np.array([-1, 0.2, 0.9, 2.1])\n",
        "\n",
        "A = np.vstack([x, np.ones(len(x))]).T\n",
        "A\n",
        "\n",
        "m, c = np.linalg.lstsq(A, y, rcond=None)[0]\n",
        "m, c\n",
        "\n",
        "import matplotlib.pyplot as plt\n",
        "_ = plt.plot(x, y, 'o', label='Original data', markersize=10)\n",
        "_ = plt.plot(x, m*x + c, 'r', label='Fitted line')\n",
        "_ = plt.legend()\n",
        "plt.show()"
      ],
      "execution_count": 63,
      "outputs": [
        {
          "output_type": "display_data",
          "data": {
            "image/png": "[encoded data removed]",
            "text/plain": [
              "<Figure size 432x288 with 1 Axes>"
            ]
          },
          "metadata": {
            "tags": [],
            "needs_background": "light"
          }
        }
      ]
    },
    {
      "cell_type": "markdown",
      "metadata": {
        "id": "4-0JOuTD8TzO",
        "colab_type": "text"
      },
      "source": [
        "# Phantom"
      ]
    },
    {
      "cell_type": "markdown",
      "metadata": {
        "id": "A7_eys3g9ud-",
        "colab_type": "text"
      },
      "source": [
        "## Utility functions"
      ]
    },
    {
      "cell_type": "code",
      "metadata": {
        "id": "vD09SdxOz0_z",
        "colab_type": "code",
        "colab": {}
      },
      "source": [
        "## Copyright (C) 2010  Alex Opie  <lx_op@orcon.net.nz>\n",
        "##\n",
        "## This program is free software; you can redistribute it and/or modify it\n",
        "## under the terms of the GNU General Public License as published by\n",
        "## the Free Software Foundation; either version 3 of the License, or (at\n",
        "## your option) any later version.\n",
        "##\n",
        "## This program is distributed in the hope that it will be useful, but\n",
        "## WITHOUT ANY WARRANTY; without even the implied warranty of\n",
        "## MERCHANTABILITY or FITNESS FOR A PARTICULAR PURPOSE.\tSee the GNU\n",
        "## General Public License for more details.\n",
        "##\n",
        "## You should have received a copy of the GNU General Public License\n",
        "## along with this program; see the file COPYING.  If not, see\n",
        "## <http://www.gnu.org/licenses/>.\n",
        "\n",
        "import numpy as np\n",
        "\n",
        "def phantom (n = 256, p_type = 'Modified Shepp-Logan', ellipses = None):\n",
        "\t\"\"\"\n",
        "\t phantom (n = 256, p_type = 'Modified Shepp-Logan', ellipses = None)\n",
        "\t\n",
        "\tCreate a Shepp-Logan or modified Shepp-Logan phantom.\n",
        "\n",
        "\tA phantom is a known object (either real or purely mathematical) \n",
        "\tthat is used for testing image reconstruction algorithms.  The \n",
        "\tShepp-Logan phantom is a popular mathematical model of a cranial\n",
        "\tslice, made up of a set of ellipses.  This allows rigorous \n",
        "\ttesting of computed tomography (CT) algorithms as it can be \n",
        "\tanalytically transformed with the radon transform (see the \n",
        "\tfunction `radon').\n",
        "\t\n",
        "\tInputs\n",
        "\t------\n",
        "\tn : The edge length of the square image to be produced.\n",
        "\t\n",
        "\tp_type : The type of phantom to produce. Either \n",
        "\t  \"Modified Shepp-Logan\" or \"Shepp-Logan\".  This is overridden\n",
        "\t  if `ellipses' is also specified.\n",
        "\t\n",
        "\tellipses : Custom set of ellipses to use.  These should be in \n",
        "\t  the form\n",
        "\t  \t[[I, a, b, x0, y0, phi],\n",
        "\t  \t [I, a, b, x0, y0, phi],\n",
        "\t  \t ...]\n",
        "\t  where each row defines an ellipse.\n",
        "\t  I : Additive intensity of the ellipse.\n",
        "\t  a : Length of the major axis.\n",
        "\t  b : Length of the minor axis.\n",
        "\t  x0 : Horizontal offset of the centre of the ellipse.\n",
        "\t  y0 : Vertical offset of the centre of the ellipse.\n",
        "\t  phi : Counterclockwise rotation of the ellipse in degrees,\n",
        "\t        measured as the angle between the horizontal axis and \n",
        "\t        the ellipse major axis.\n",
        "\t  The image bounding box in the algorithm is [-1, -1], [1, 1], \n",
        "\t  so the values of a, b, x0, y0 should all be specified with\n",
        "\t  respect to this box.\n",
        "\t\n",
        "\tOutput\n",
        "\t------\n",
        "\tP : A phantom image.\n",
        "\t\n",
        "\tUsage example\n",
        "\t-------------\n",
        "\t  import matplotlib.pyplot as pl\n",
        "\t  P = phantom ()\n",
        "\t  pl.imshow (P)\n",
        "\t\n",
        "\tReferences\n",
        "\t----------\n",
        "\tShepp, L. A.; Logan, B. F.; Reconstructing Interior Head Tissue \n",
        "\tfrom X-Ray Transmissions, IEEE Transactions on Nuclear Science,\n",
        "\tFeb. 1974, p. 232.\n",
        "\t\n",
        "\tToft, P.; \"The Radon Transform - Theory and Implementation\", \n",
        "\tPh.D. thesis, Department of Mathematical Modelling, Technical \n",
        "\tUniversity of Denmark, June 1996.\n",
        "\t\n",
        "\t\"\"\"\n",
        "\t\n",
        "\tif (ellipses is None):\n",
        "\t\tellipses = _select_phantom (p_type)\n",
        "\telif (np.size (ellipses, 1) != 6):\n",
        "\t\traise AssertionError (\"Wrong number of columns in user phantom\")\n",
        "\t\n",
        "\t# Blank image\n",
        "\tp = np.zeros ((n, n))\n",
        "\n",
        "\t# Create the pixel grid\n",
        "\tygrid, xgrid = np.mgrid[-1:1:(1j*n), -1:1:(1j*n)]\n",
        "\n",
        "\tfor ellip in ellipses:\n",
        "\t\tI   = ellip [0]\n",
        "\t\ta2  = ellip [1]**2\n",
        "\t\tb2  = ellip [2]**2\n",
        "\t\tx0  = ellip [3]\n",
        "\t\ty0  = ellip [4]\n",
        "\t\tphi = ellip [5] * np.pi / 180  # Rotation angle in radians\n",
        "\t\t\n",
        "\t\t# Create the offset x and y values for the grid\n",
        "\t\tx = xgrid - x0\n",
        "\t\ty = ygrid - y0\n",
        "\t\t\n",
        "\t\tcos_p = np.cos (phi) \n",
        "\t\tsin_p = np.sin (phi)\n",
        "\t\t\n",
        "\t\t# Find the pixels within the ellipse\n",
        "\t\tlocs = (((x * cos_p + y * sin_p)**2) / a2 \n",
        "              + ((y * cos_p - x * sin_p)**2) / b2) <= 1\n",
        "\t\t\n",
        "\t\t# Add the ellipse intensity to those pixels\n",
        "\t\tp [locs] += I\n",
        "\n",
        "\treturn p\n",
        "\n",
        "\n",
        "def _select_phantom (name):\n",
        "\tif (name.lower () == 'shepp-logan'):\n",
        "\t\te = _shepp_logan ()\n",
        "\telif (name.lower () == 'modified shepp-logan'):\n",
        "\t\te = _mod_shepp_logan ()\n",
        "\telse:\n",
        "\t\traise ValueError (\"Unknown phantom type: %s\" % name)\n",
        "\t\n",
        "\treturn e\n",
        "\n",
        "\n",
        "def _shepp_logan ():\n",
        "\t#  Standard head phantom, taken from Shepp & Logan\n",
        "\treturn [[   2,   .69,   .92,    0,      0,   0],\n",
        "\t        [-.98, .6624, .8740,    0, -.0184,   0],\n",
        "\t        [-.02, .1100, .3100,  .22,      0, -18],\n",
        "\t        [-.02, .1600, .4100, -.22,      0,  18],\n",
        "\t        [ .01, .2100, .2500,    0,    .35,   0],\n",
        "\t        [ .01, .0460, .0460,    0,     .1,   0],\n",
        "\t        [ .02, .0460, .0460,    0,    -.1,   0],\n",
        "\t        [ .01, .0460, .0230, -.08,  -.605,   0],\n",
        "\t        [ .01, .0230, .0230,    0,  -.606,   0],\n",
        "\t        [ .01, .0230, .0460,  .06,  -.605,   0]]\n",
        "\n",
        "def _mod_shepp_logan ():\n",
        "\t#  Modified version of Shepp & Logan's head phantom, \n",
        "\t#  adjusted to improve contrast.  Taken from Toft.\n",
        "\treturn [[   1,   .69,   .92,    0,      0,   0],\n",
        "\t        [-.80, .6624, .8740,    0, -.0184,   0],\n",
        "\t        [-.20, .1100, .3100,  .22,      0, -18],\n",
        "\t        [-.20, .1600, .4100, -.22,      0,  18],\n",
        "\t        [ .10, .2100, .2500,    0,    .35,   0],\n",
        "\t        [ .10, .0460, .0460,    0,     .1,   0],\n",
        "\t        [ .10, .0460, .0460,    0,    -.1,   0],\n",
        "\t        [ .10, .0460, .0230, -.08,  -.605,   0],\n",
        "\t        [ .10, .0230, .0230,    0,  -.606,   0],\n",
        "\t        [ .10, .0230, .0460,  .06,  -.605,   0]]\n",
        "\n",
        "#def ?? ():\n",
        "#\t# Add any further phantoms of interest here\n",
        "#\treturn np.array (\n",
        "#\t [[ 0, 0, 0, 0, 0, 0],\n",
        "#\t  [ 0, 0, 0, 0, 0, 0]])"
      ],
      "execution_count": 1,
      "outputs": []
    },
    {
      "cell_type": "markdown",
      "metadata": {
        "id": "JStxZa8i9xkw",
        "colab_type": "text"
      },
      "source": [
        "## Example"
      ]
    },
    {
      "cell_type": "code",
      "metadata": {
        "id": "Exzm2hJR0LTV",
        "colab_type": "code",
        "colab": {
          "base_uri": "https://localhost:8080/",
          "height": 283
        },
        "outputId": "3220d6bc-68ea-4cdf-9af3-10a66f7eb6dc"
      },
      "source": [
        "import matplotlib.pyplot as plt\n",
        "\n",
        "w = 32\n",
        "\n",
        "I = phantom(n=w)\n",
        "imgplot = plt.imshow(I, cmap='gray')\n",
        "imgplot"
      ],
      "execution_count": 2,
      "outputs": [
        {
          "output_type": "execute_result",
          "data": {
            "text/plain": [
              "<matplotlib.image.AxesImage at 0x7f4c9502bc50>"
            ]
          },
          "metadata": {
            "tags": []
          },
          "execution_count": 2
        },
        {
          "output_type": "display_data",
          "data": {
            "image/png": "[encoded data removed]",
            "text/plain": [
              "<Figure size 432x288 with 1 Axes>"
            ]
          },
          "metadata": {
            "tags": [],
            "needs_background": "light"
          }
        }
      ]
    },
    {
      "cell_type": "code",
      "metadata": {
        "id": "Mr3VJFtk1ofb",
        "colab_type": "code",
        "colab": {
          "base_uri": "https://localhost:8080/",
          "height": 34
        },
        "outputId": "77504e70-2443-4605-e982-783c32be183f"
      },
      "source": [
        "import numpy as np\n",
        "\n",
        "x = np.ndarray.flatten(I)\n",
        "\n",
        "n = len(x)\n",
        "m = int(.7 * n)\n",
        "print(m, n)\n",
        "\n",
        "A = np.random.rand(m, n)\n",
        "\n",
        "b = A.dot(x)"
      ],
      "execution_count": 3,
      "outputs": [
        {
          "output_type": "stream",
          "text": [
            "716 1024\n"
          ],
          "name": "stdout"
        }
      ]
    },
    {
      "cell_type": "code",
      "metadata": {
        "id": "yxCX_39t2Hbg",
        "colab_type": "code",
        "colab": {
          "base_uri": "https://localhost:8080/",
          "height": 341
        },
        "outputId": "0740b9e1-729d-4bd0-f264-4d0f483bcc4c"
      },
      "source": [
        "y = np.linalg.solve(A, b)"
      ],
      "execution_count": 4,
      "outputs": [
        {
          "output_type": "error",
          "ename": "LinAlgError",
          "evalue": "ignored",
          "traceback": [
            "\u001b[0;31m---------------------------------------------------------------------------\u001b[0m",
            "\u001b[0;31mLinAlgError\u001b[0m                               Traceback (most recent call last)",
            "\u001b[0;32m<ipython-input-4-9087bf01a13c>\u001b[0m in \u001b[0;36m<module>\u001b[0;34m()\u001b[0m\n\u001b[0;32m----> 1\u001b[0;31m \u001b[0my\u001b[0m \u001b[0;34m=\u001b[0m \u001b[0mnp\u001b[0m\u001b[0;34m.\u001b[0m\u001b[0mlinalg\u001b[0m\u001b[0;34m.\u001b[0m\u001b[0msolve\u001b[0m\u001b[0;34m(\u001b[0m\u001b[0mA\u001b[0m\u001b[0;34m,\u001b[0m \u001b[0mb\u001b[0m\u001b[0;34m)\u001b[0m\u001b[0;34m\u001b[0m\u001b[0;34m\u001b[0m\u001b[0m\n\u001b[0m",
            "\u001b[0;32m<__array_function__ internals>\u001b[0m in \u001b[0;36msolve\u001b[0;34m(*args, **kwargs)\u001b[0m\n",
            "\u001b[0;32m/usr/local/lib/python3.6/dist-packages/numpy/linalg/linalg.py\u001b[0m in \u001b[0;36msolve\u001b[0;34m(a, b)\u001b[0m\n\u001b[1;32m    384\u001b[0m     \u001b[0ma\u001b[0m\u001b[0;34m,\u001b[0m \u001b[0m_\u001b[0m \u001b[0;34m=\u001b[0m \u001b[0m_makearray\u001b[0m\u001b[0;34m(\u001b[0m\u001b[0ma\u001b[0m\u001b[0;34m)\u001b[0m\u001b[0;34m\u001b[0m\u001b[0;34m\u001b[0m\u001b[0m\n\u001b[1;32m    385\u001b[0m     \u001b[0m_assert_stacked_2d\u001b[0m\u001b[0;34m(\u001b[0m\u001b[0ma\u001b[0m\u001b[0;34m)\u001b[0m\u001b[0;34m\u001b[0m\u001b[0;34m\u001b[0m\u001b[0m\n\u001b[0;32m--> 386\u001b[0;31m     \u001b[0m_assert_stacked_square\u001b[0m\u001b[0;34m(\u001b[0m\u001b[0ma\u001b[0m\u001b[0;34m)\u001b[0m\u001b[0;34m\u001b[0m\u001b[0;34m\u001b[0m\u001b[0m\n\u001b[0m\u001b[1;32m    387\u001b[0m     \u001b[0mb\u001b[0m\u001b[0;34m,\u001b[0m \u001b[0mwrap\u001b[0m \u001b[0;34m=\u001b[0m \u001b[0m_makearray\u001b[0m\u001b[0;34m(\u001b[0m\u001b[0mb\u001b[0m\u001b[0;34m)\u001b[0m\u001b[0;34m\u001b[0m\u001b[0;34m\u001b[0m\u001b[0m\n\u001b[1;32m    388\u001b[0m     \u001b[0mt\u001b[0m\u001b[0;34m,\u001b[0m \u001b[0mresult_t\u001b[0m \u001b[0;34m=\u001b[0m \u001b[0m_commonType\u001b[0m\u001b[0;34m(\u001b[0m\u001b[0ma\u001b[0m\u001b[0;34m,\u001b[0m \u001b[0mb\u001b[0m\u001b[0;34m)\u001b[0m\u001b[0;34m\u001b[0m\u001b[0;34m\u001b[0m\u001b[0m\n",
            "\u001b[0;32m/usr/local/lib/python3.6/dist-packages/numpy/linalg/linalg.py\u001b[0m in \u001b[0;36m_assert_stacked_square\u001b[0;34m(*arrays)\u001b[0m\n\u001b[1;32m    211\u001b[0m         \u001b[0mm\u001b[0m\u001b[0;34m,\u001b[0m \u001b[0mn\u001b[0m \u001b[0;34m=\u001b[0m \u001b[0ma\u001b[0m\u001b[0;34m.\u001b[0m\u001b[0mshape\u001b[0m\u001b[0;34m[\u001b[0m\u001b[0;34m-\u001b[0m\u001b[0;36m2\u001b[0m\u001b[0;34m:\u001b[0m\u001b[0;34m]\u001b[0m\u001b[0;34m\u001b[0m\u001b[0;34m\u001b[0m\u001b[0m\n\u001b[1;32m    212\u001b[0m         \u001b[0;32mif\u001b[0m \u001b[0mm\u001b[0m \u001b[0;34m!=\u001b[0m \u001b[0mn\u001b[0m\u001b[0;34m:\u001b[0m\u001b[0;34m\u001b[0m\u001b[0;34m\u001b[0m\u001b[0m\n\u001b[0;32m--> 213\u001b[0;31m             \u001b[0;32mraise\u001b[0m \u001b[0mLinAlgError\u001b[0m\u001b[0;34m(\u001b[0m\u001b[0;34m'Last 2 dimensions of the array must be square'\u001b[0m\u001b[0;34m)\u001b[0m\u001b[0;34m\u001b[0m\u001b[0;34m\u001b[0m\u001b[0m\n\u001b[0m\u001b[1;32m    214\u001b[0m \u001b[0;34m\u001b[0m\u001b[0m\n\u001b[1;32m    215\u001b[0m \u001b[0;32mdef\u001b[0m \u001b[0m_assert_finite\u001b[0m\u001b[0;34m(\u001b[0m\u001b[0;34m*\u001b[0m\u001b[0marrays\u001b[0m\u001b[0;34m)\u001b[0m\u001b[0;34m:\u001b[0m\u001b[0;34m\u001b[0m\u001b[0;34m\u001b[0m\u001b[0m\n",
            "\u001b[0;31mLinAlgError\u001b[0m: Last 2 dimensions of the array must be square"
          ]
        }
      ]
    },
    {
      "cell_type": "code",
      "metadata": {
        "id": "K6nXtCHU2YMP",
        "colab_type": "code",
        "colab": {
          "base_uri": "https://localhost:8080/",
          "height": 283
        },
        "outputId": "d9f2b5b6-6d30-4f7e-887f-0fd61912b517"
      },
      "source": [
        "y = np.linalg.lstsq(A, b, rcond=None)[0]\n",
        "\n",
        "y = np.resize(y, (w,w))\n",
        "\n",
        "plt.imshow(y, cmap='gray')"
      ],
      "execution_count": 5,
      "outputs": [
        {
          "output_type": "execute_result",
          "data": {
            "text/plain": [
              "<matplotlib.image.AxesImage at 0x7f4c922acf60>"
            ]
          },
          "metadata": {
            "tags": []
          },
          "execution_count": 5
        },
        {
          "output_type": "display_data",
          "data": {
            "image/png": "[encoded data removed]",
            "text/plain": [
              "<Figure size 432x288 with 1 Axes>"
            ]
          },
          "metadata": {
            "tags": [],
            "needs_background": "light"
          }
        }
      ]
    },
    {
      "cell_type": "code",
      "metadata": {
        "id": "aX-uP4WL3pyy",
        "colab_type": "code",
        "colab": {
          "base_uri": "https://localhost:8080/",
          "height": 283
        },
        "outputId": "b07103e2-8956-45cd-e5c5-e14f2f1cdc49"
      },
      "source": [
        "import cvxpy as cp\n",
        "\n",
        "# Construct the problem.\n",
        "z = cp.Variable(n)\n",
        "objective = cp.Minimize(cp.sum_squares(A*z - b))\n",
        "constraints = [0 <= z]  # can also try [0 <= z, z <= 1]\n",
        "prob = cp.Problem(objective, constraints)\n",
        "\n",
        "# The optimal objective value is returned by `prob.solve()`.\n",
        "result = prob.solve()\n",
        "# The optimal value for x is stored in `x.value`.\n",
        "plt.imshow(np.resize(z.value, (w,w)), cmap='gray')"
      ],
      "execution_count": 7,
      "outputs": [
        {
          "output_type": "execute_result",
          "data": {
            "text/plain": [
              "<matplotlib.image.AxesImage at 0x7f4c82b9f710>"
            ]
          },
          "metadata": {
            "tags": []
          },
          "execution_count": 7
        },
        {
          "output_type": "display_data",
          "data": {
            "image/png": "[encoded data removed]",
            "text/plain": [
              "<Figure size 432x288 with 1 Axes>"
            ]
          },
          "metadata": {
            "tags": [],
            "needs_background": "light"
          }
        }
      ]
    },
    {
      "cell_type": "code",
      "metadata": {
        "id": "XHgyTuzi5UrJ",
        "colab_type": "code",
        "colab": {
          "base_uri": "https://localhost:8080/",
          "height": 282
        },
        "outputId": "0a882ffe-35b9-4159-e0f5-e4ccfabb48e3"
      },
      "source": [
        "import cvxpy as cp\n",
        "\n",
        "# Construct the problem.\n",
        "z = cp.Variable(n)\n",
        "objective = cp.Minimize(cp.norm1(A*z - b))\n",
        "constraints = [0 <= z, z <= 1]\n",
        "prob = cp.Problem(objective, constraints)\n",
        "\n",
        "# The optimal objective value is returned by `prob.solve()`.\n",
        "result = prob.solve()\n",
        "# The optimal value for x is stored in `x.value`.\n",
        "plt.imshow(np.resize(z.value, (16,16)), cmap='gray')"
      ],
      "execution_count": 73,
      "outputs": [
        {
          "output_type": "execute_result",
          "data": {
            "text/plain": [
              "<matplotlib.image.AxesImage at 0x7f7e4417a160>"
            ]
          },
          "metadata": {
            "tags": []
          },
          "execution_count": 73
        },
        {
          "output_type": "display_data",
          "data": {
            "image/png": "[encoded data removed]",
            "text/plain": [
              "<Figure size 432x288 with 1 Axes>"
            ]
          },
          "metadata": {
            "tags": [],
            "needs_background": "light"
          }
        }
      ]
    },
    {
      "cell_type": "code",
      "metadata": {
        "id": "WCHSSHOI9Z2i",
        "colab_type": "code",
        "colab": {}
      },
      "source": [
        ""
      ],
      "execution_count": null,
      "outputs": []
    }
  ]
}